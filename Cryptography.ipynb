{
 "cells": [
  {
   "cell_type": "code",
   "execution_count": 16,
   "id": "0ee7bc62-db3a-4457-bf6b-2e945db8bf2e",
   "metadata": {},
   "outputs": [],
   "source": [
    "import requests\n",
    "import pandas as pd\n",
    "import matplotlib.pyplot as plt\n"
   ]
  },
  {
   "cell_type": "code",
   "execution_count": 2,
   "id": "57282f97-4588-4407-96d0-044ca1331aa9",
   "metadata": {},
   "outputs": [
    {
     "name": "stdout",
     "output_type": "stream",
     "text": [
      "[{'title': 'Bitcoin Layer 2 Foundations Should Buy Bitcoin For Their Treasuries ', 'description': 'Bitcoin Layer 2 foundations are building on Bitcoin. So, why aren’t they storing their treasuries in it? ', 'thumbnail': 'https://bitcoinmagazine.com/.image/c_fit%2Ch_800%2Cw_1200/MjEwNjU3MTMwODg4MzA4NzEz/bitcoin-mining-hash-rate.jpg', 'url': 'https://bitcoinmagazine.com/takes/bitcoin-layer-2-foundations-should-buy-bitcoin-for-their-treasuries-', 'date': 'Tue, 07 Jan 2025 19:10:31 GMT'}, {'title': 'Meet Jason Marquez: The Truck Driver Who made $750,000 on MicroStrategy', 'description': 'After getting out of crypto after FTX, one man went “all in” on Michael Saylor and made a fortune.', 'thumbnail': 'https://bitcoinmagazine.com/.image/c_fit%2Ch_800%2Cw_1200/MTc5Mjk3NzgzMzkxNDYzMDYz/microstrategy-buys-01-percent-of-all-bitcoin.png', 'url': 'https://bitcoinmagazine.com/takes/meet-jason-marquez-the-truck-driver-who-made-750000-on-microstrategy', 'date': 'Tue, 07 Jan 2025 16:55:11 GMT'}, {'title': 'From Laser Eyes to Upside-Down Pics: The New Bitcoin Campaign to Flip Gold', 'description': 'Bitcoin hit $100K, but the next mission is clear: flip gold’s market cap. Join the #PicFlipTillGoldFlip campaign and help push Bitcoin to $1 million. From laser eyes to upside-down pics, it’s time to turn the financial world on its head—literally.', 'thumbnail': 'https://bitcoinmagazine.com/.image/c_fit%2Ch_800%2Cw_1200/MjExOTUwNTIwODI5NDg3MDgw/from-laser-eyes-to-upside-down-pics-the-new-bitcoin-campaign-to-flip-gold.jpg', 'url': 'https://bitcoinmagazine.com/culture/from-laser-eyes-to-upside-down-pics-the-new-bitcoin-campaign-to-flip-gold', 'date': 'Tue, 07 Jan 2025 15:13:33 GMT'}, {'title': 'Democrats Should Reverse Their Stance On Bitcoin', 'description': \"Van Jones admits that Democrats should have paid attention to the crypto voter in the last election cycle and wants his party to do so moving forward. But just offering the voting bloc lip service won't be enough to win them over.\", 'thumbnail': 'https://bitcoinmagazine.com/.image/c_fit%2Ch_800%2Cw_1200/MjExOTUwMjU0NTQxNTE0NzI4/screenshot-2025-01-07-at-93308am.png', 'url': 'https://bitcoinmagazine.com/takes/democrats-should-reverse-their-stance-on-bitcoin', 'date': 'Tue, 07 Jan 2025 14:55:00 GMT'}, {'title': 'Anchors Are Evil! Bitcoin Core Is Destroying Bitcoin!', 'description': '\"Criticism\" of Bitcoin Core developers is hitting new highs of absurdity, illogical foundations, and all around ridiculousness. ', 'thumbnail': 'https://bitcoinmagazine.com/.image/c_fit%2Ch_800%2Cw_1200/MjExOTMwOTE1Mzc3NTg4MjAw/leonardo_lightning_xl_a_ship_anchor_sitting_in_the_middle_of_m_0.jpg', 'url': 'https://bitcoinmagazine.com/takes/anchors-are-evil-bitcoin-core-is-destroying-bitcoin', 'date': 'Mon, 06 Jan 2025 18:45:12 GMT'}]\n",
      "                                               title  \\\n",
      "0  Bitcoin Layer 2 Foundations Should Buy Bitcoin...   \n",
      "1  Meet Jason Marquez: The Truck Driver Who made ...   \n",
      "2  From Laser Eyes to Upside-Down Pics: The New B...   \n",
      "3   Democrats Should Reverse Their Stance On Bitcoin   \n",
      "4  Anchors Are Evil! Bitcoin Core Is Destroying B...   \n",
      "\n",
      "                                         description  \\\n",
      "0  Bitcoin Layer 2 foundations are building on Bi...   \n",
      "1  After getting out of crypto after FTX, one man...   \n",
      "2  Bitcoin hit $100K, but the next mission is cle...   \n",
      "3  Van Jones admits that Democrats should have pa...   \n",
      "4  \"Criticism\" of Bitcoin Core developers is hitt...   \n",
      "\n",
      "                                           thumbnail  \\\n",
      "0  https://bitcoinmagazine.com/.image/c_fit%2Ch_8...   \n",
      "1  https://bitcoinmagazine.com/.image/c_fit%2Ch_8...   \n",
      "2  https://bitcoinmagazine.com/.image/c_fit%2Ch_8...   \n",
      "3  https://bitcoinmagazine.com/.image/c_fit%2Ch_8...   \n",
      "4  https://bitcoinmagazine.com/.image/c_fit%2Ch_8...   \n",
      "\n",
      "                                                 url  \\\n",
      "0  https://bitcoinmagazine.com/takes/bitcoin-laye...   \n",
      "1  https://bitcoinmagazine.com/takes/meet-jason-m...   \n",
      "2  https://bitcoinmagazine.com/culture/from-laser...   \n",
      "3  https://bitcoinmagazine.com/takes/democrats-sh...   \n",
      "4  https://bitcoinmagazine.com/takes/anchors-are-...   \n",
      "\n",
      "                            date  \n",
      "0  Tue, 07 Jan 2025 19:10:31 GMT  \n",
      "1  Tue, 07 Jan 2025 16:55:11 GMT  \n",
      "2  Tue, 07 Jan 2025 15:13:33 GMT  \n",
      "3  Tue, 07 Jan 2025 14:55:00 GMT  \n",
      "4  Mon, 06 Jan 2025 18:45:12 GMT  \n"
     ]
    }
   ],
   "source": [
    "import requests\n",
    "\n",
    "url = \"https://crypto-news16.p.rapidapi.com/news/top/5\"\n",
    "\n",
    "headers = {\n",
    "\t\"x-rapidapi-key\": \"c912bee29dmsh13391d223a7196fp167dc0jsndb9a8aa5c57e\",\n",
    "\t\"x-rapidapi-host\": \"crypto-news16.p.rapidapi.com\"\n",
    "}\n",
    "\n",
    "# Send GET request to the API and store the JSON response\n",
    "response = requests.get(url, headers=headers)\n",
    "data = response.json()\n",
    "\n",
    "# Print JSON data (to check the format)\n",
    "print(data)\n",
    "\n",
    "# Convert JSON data to DataFrame\n",
    "if isinstance(data, list):\n",
    "    df = pd.DataFrame(data)\n",
    "else:\n",
    "    df = pd.DataFrame([data])\n",
    "\n",
    "# Display the data\n",
    "print(df.head())\n"
   ]
  },
  {
   "cell_type": "code",
   "execution_count": 3,
   "id": "a6fdcae1-fe82-440c-a9ec-78bd09d1af1e",
   "metadata": {},
   "outputs": [
    {
     "name": "stdout",
     "output_type": "stream",
     "text": [
      "                                               title  \\\n",
      "0  Bitcoin Layer 2 Foundations Should Buy Bitcoin...   \n",
      "1  Meet Jason Marquez: The Truck Driver Who made ...   \n",
      "2  From Laser Eyes to Upside-Down Pics: The New B...   \n",
      "3   Democrats Should Reverse Their Stance On Bitcoin   \n",
      "4  Anchors Are Evil! Bitcoin Core Is Destroying B...   \n",
      "\n",
      "                                         description  \\\n",
      "0  Bitcoin Layer 2 foundations are building on Bi...   \n",
      "1  After getting out of crypto after FTX, one man...   \n",
      "2  Bitcoin hit $100K, but the next mission is cle...   \n",
      "3  Van Jones admits that Democrats should have pa...   \n",
      "4  \"Criticism\" of Bitcoin Core developers is hitt...   \n",
      "\n",
      "                                           thumbnail  \\\n",
      "0  https://bitcoinmagazine.com/.image/c_fit%2Ch_8...   \n",
      "1  https://bitcoinmagazine.com/.image/c_fit%2Ch_8...   \n",
      "2  https://bitcoinmagazine.com/.image/c_fit%2Ch_8...   \n",
      "3  https://bitcoinmagazine.com/.image/c_fit%2Ch_8...   \n",
      "4  https://bitcoinmagazine.com/.image/c_fit%2Ch_8...   \n",
      "\n",
      "                                                 url                date  \n",
      "0  https://bitcoinmagazine.com/takes/bitcoin-laye... 2025-01-07 19:10:31  \n",
      "1  https://bitcoinmagazine.com/takes/meet-jason-m... 2025-01-07 16:55:11  \n",
      "2  https://bitcoinmagazine.com/culture/from-laser... 2025-01-07 15:13:33  \n",
      "3  https://bitcoinmagazine.com/takes/democrats-sh... 2025-01-07 14:55:00  \n",
      "4  https://bitcoinmagazine.com/takes/anchors-are-... 2025-01-06 18:45:12  \n"
     ]
    }
   ],
   "source": [
    "# Convert the date column to datetime\n",
    "df['date'] = pd.to_datetime(df['date'])\n",
    "\n",
    "# Display the first few rows of the DataFrame\n",
    "print(df.head())\n"
   ]
  },
  {
   "cell_type": "code",
   "execution_count": 4,
   "id": "27bd1330-f836-4ae7-b7d7-32bae3ae7cd5",
   "metadata": {},
   "outputs": [
    {
     "name": "stdout",
     "output_type": "stream",
     "text": [
      "                                               title  \\\n",
      "0  Bitcoin Layer 2 Foundations Should Buy Bitcoin...   \n",
      "1  Meet Jason Marquez: The Truck Driver Who made ...   \n",
      "2  From Laser Eyes to Upside-Down Pics: The New B...   \n",
      "3   Democrats Should Reverse Their Stance On Bitcoin   \n",
      "4  Anchors Are Evil! Bitcoin Core Is Destroying B...   \n",
      "\n",
      "                                         description  \\\n",
      "0  Bitcoin Layer 2 foundations are building on Bi...   \n",
      "1  After getting out of crypto after FTX, one man...   \n",
      "2  Bitcoin hit $100K, but the next mission is cle...   \n",
      "3  Van Jones admits that Democrats should have pa...   \n",
      "4  \"Criticism\" of Bitcoin Core developers is hitt...   \n",
      "\n",
      "                                           thumbnail  \\\n",
      "0  https://bitcoinmagazine.com/.image/c_fit%2Ch_8...   \n",
      "1  https://bitcoinmagazine.com/.image/c_fit%2Ch_8...   \n",
      "2  https://bitcoinmagazine.com/.image/c_fit%2Ch_8...   \n",
      "3  https://bitcoinmagazine.com/.image/c_fit%2Ch_8...   \n",
      "4  https://bitcoinmagazine.com/.image/c_fit%2Ch_8...   \n",
      "\n",
      "                                                 url                date  \n",
      "0  https://bitcoinmagazine.com/takes/bitcoin-laye... 2025-01-07 19:10:31  \n",
      "1  https://bitcoinmagazine.com/takes/meet-jason-m... 2025-01-07 16:55:11  \n",
      "2  https://bitcoinmagazine.com/culture/from-laser... 2025-01-07 15:13:33  \n",
      "3  https://bitcoinmagazine.com/takes/democrats-sh... 2025-01-07 14:55:00  \n",
      "4  https://bitcoinmagazine.com/takes/anchors-are-... 2025-01-06 18:45:12  \n"
     ]
    }
   ],
   "source": [
    "# Filter data for a specific date range\n",
    "filtered_df = df[df['date'] > '2025-01-01']\n",
    "\n",
    "# Display the filtered data\n",
    "print(filtered_df)\n"
   ]
  },
  {
   "cell_type": "code",
   "execution_count": 5,
   "id": "f6fe6f77-61c8-48aa-8d7d-133b86f7e862",
   "metadata": {},
   "outputs": [
    {
     "data": {
      "image/png": "[encoded data removed]",
      "text/plain": [
       "<Figure size 640x480 with 1 Axes>"
      ]
     },
     "metadata": {},
     "output_type": "display_data"
    }
   ],
   "source": [
    "import matplotlib.pyplot as plt\n",
    "\n",
    "# Quantitative analysis by date of news\n",
    "filtered_df.set_index('date', inplace=True)\n",
    "filtered_df['title'].resample('D').count().plot(kind='line')\n",
    "plt.title('Daily News Count')\n",
    "plt.xlabel('Date')\n",
    "plt.ylabel('Number of News Articles')\n",
    "plt.show()\n"
   ]
  },
  {
   "cell_type": "code",
   "execution_count": null,
   "id": "b08803f4-2932-4a59-8084-c15d3bf7e781",
   "metadata": {},
   "outputs": [],
   "source": [
    "Strat your insight now"
   ]
  }
 ],
 "metadata": {
  "kernelspec": {
   "display_name": "Python 3 (ipykernel)",
   "language": "python",
   "name": "python3"
  },
  "language_info": {
   "codemirror_mode": {
    "name": "ipython",
    "version": 3
   },
   "file_extension": ".py",
   "mimetype": "text/x-python",
   "name": "python",
   "nbconvert_exporter": "python",
   "pygments_lexer": "ipython3",
   "version": "3.12.6"
  }
 },
 "nbformat": 4,
 "nbformat_minor": 5
}
